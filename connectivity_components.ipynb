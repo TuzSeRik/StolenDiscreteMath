{
 "cells": [
  {
   "cell_type": "code",
   "execution_count": 18,
   "metadata": {},
   "outputs": [
    {
     "name": "stdout",
     "output_type": "stream",
     "text": [
      "Количество вершин: graph1 = 6, graph2 = 6 (+)\n",
      "Количество ребер: graph1 = 6.0, graph2 = 6.0 (+)\n",
      "Число компанент связностей: graph1 = 1, graph2 = 1 (+)\n",
      "Степени вершин: graph1 = [3, 2, 2, 2, 2, 1], graph2 = [3, 2, 2, 2, 2, 1] (+)\n"
     ]
    }
   ],
   "source": [
    "graph1 = [\n",
    "    [0, 1, 0, 0, 0, 0],\n",
    "    [1, 0, 1, 0, 0, 1], \n",
    "    [0, 1, 0, 1, 0, 0],\n",
    "    [0, 0, 1, 0, 1, 0],\n",
    "    [0, 0, 0, 1, 0, 1],\n",
    "    [0, 1, 0, 0, 1, 0]\n",
    "]\n",
    "\n",
    "graph2 = [\n",
    "    [0, 1, 0, 0, 0, 0],\n",
    "    [1, 0, 1, 0, 0, 0],\n",
    "    [0, 1, 0, 1, 0, 1],\n",
    "    [0, 0, 1, 0, 1, 0],\n",
    "    [0, 0, 0, 1, 0, 1],\n",
    "    [0, 0, 1, 0, 1, 0]\n",
    "]\n",
    "\n",
    "\n",
    "def compare(graph1, graph2):\n",
    "    check = True\n",
    "    print(f'Количество вершин: graph1 = {len(graph1)}, graph2 = {len(graph2)}', end=' ')\n",
    "    if (len(graph1) == len(graph2)):\n",
    "        print('(+)')\n",
    "    else:\n",
    "        print('(-)')\n",
    "        check = False\n",
    "    print(f'Количество ребер: graph1 = {matrix_sum(graph1)}, graph2 = {matrix_sum(graph2)}', end=' ')\n",
    "    if(matrix_sum(graph1) == matrix_sum(graph2)):\n",
    "        print('(+)')\n",
    "    else:\n",
    "        print('(-)')\n",
    "        check = False\n",
    "    print(f'Число компанент связностей: graph1 = {count_component(graph1)}, graph2 = {count_component(graph2)}', end =' ')\n",
    "    if (count_component(graph1) == count_component(graph2)):\n",
    "        print('(+)')\n",
    "    else:\n",
    "        print('(-)')\n",
    "        check = False\n",
    "    print(f'Степени вершин: graph1 = {deg_list(graph1)}, graph2 = {deg_list(graph2)}', end = ' ')\n",
    "    if (deg_list(graph1) == deg_list(graph2)):\n",
    "        print('(+)')\n",
    "    else:\n",
    "        print('(-)')\n",
    "        check = False\n",
    "    \n",
    "    \n",
    "def deg_list(graph):\n",
    "    res = []\n",
    "    for v in graph:\n",
    "        res.append(sum([1 for i in range(len(graph)) if v[i] == 1]))\n",
    "    res.sort(reverse=True)\n",
    "    return res \n",
    "    \n",
    "def matrix_sum(graph):\n",
    "    return sum([1 for i in range(len(graph)) for j in range(len(graph)) if graph[i][j] == 1])/2\n",
    "\n",
    "compare(graph1, graph2)"
   ]
  },
  {
   "cell_type": "code",
   "execution_count": 2,
   "metadata": {},
   "outputs": [],
   "source": [
    "def count_component(graph):\n",
    "    connected_component = 0\n",
    "    visited = []\n",
    "    for i in range (len(graph)):\n",
    "        visited.append(False)\n",
    "    for i, u in enumerate(graph):\n",
    "        if visited[i] == False:\n",
    "            visited[i] = True\n",
    "            connected_component += 1\n",
    "            dfs(u, graph, visited)\n",
    "    return connected_component"
   ]
  },
  {
   "cell_type": "code",
   "execution_count": 3,
   "metadata": {},
   "outputs": [],
   "source": [
    "def dfs(u, graph, visited):\n",
    "    for v in [i for i in range(len(u)) if u[i] == 1]:\n",
    "        if visited[v] == False:\n",
    "            visited[v] = True\n",
    "            dfs(graph[v], graph, visited)"
   ]
  }
 ],
 "metadata": {
  "kernelspec": {
   "display_name": "Python 3",
   "language": "python",
   "name": "python3"
  },
  "language_info": {
   "codemirror_mode": {
    "name": "ipython",
    "version": 3
   },
   "file_extension": ".py",
   "mimetype": "text/x-python",
   "name": "python",
   "nbconvert_exporter": "python",
   "pygments_lexer": "ipython3",
   "version": "3.6.5"
  }
 },
 "nbformat": 4,
 "nbformat_minor": 2
}
