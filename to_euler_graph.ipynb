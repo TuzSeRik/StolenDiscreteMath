{
 "cells": [
  {
   "cell_type": "code",
   "execution_count": 71,
   "metadata": {},
   "outputs": [],
   "source": [
    "def euler_graph(matrix):\n",
    "    array = []\n",
    "    for row in range (len(matrix)):\n",
    "         if (len([i for i in range(len(matrix[row])) if matrix[row][i] == 1])) % 2 != 0:\n",
    "            array.append(row)\n",
    "    if len(array) == 1:\n",
    "        print(\"Сорян:(\")\n",
    "        return\n",
    "    if (len(array) % 2 == 1):\n",
    "        for row in matrix:\n",
    "            del row[array[0]]\n",
    "        del matrix[array[0]]\n",
    "        print (f\"Т.к. в матрице нельзя построить эйлеров цикл без боли удалим вершину №{array[0]+1}\")\n",
    "        del array[0]\n",
    "    for i in range(0, len(array)-2, 2) :\n",
    "        matrix[array[i]][array[i+1]] = 1 if (matrix[array[i]][array[i+1]] == 0) else 0\n",
    "        matrix[array[i+1]][array[i]] = 1 if (matrix[array[i+1]][array[i]] == 0) else 0\n",
    "    print (\"Матрица, в которой можно найти эйлеров цикл\")\n",
    "    for row in matrix:\n",
    "        print (row)\n",
    "    "
   ]
  },
  {
   "cell_type": "code",
   "execution_count": 72,
   "metadata": {},
   "outputs": [
    {
     "name": "stdout",
     "output_type": "stream",
     "text": [
      "Т.к. в матрице нельзя построить эйлеров цикл без боли удалим вершину №2\n",
      "Матрица, в которой можно найти эйлеров цикл\n",
      "[1, 1, 1, 1, 0, 1, 0, 1, 1, 1, 0]\n",
      "[1, 0, 1, 1, 1, 0, 0, 1, 1, 1, 1]\n",
      "[1, 1, 0, 1, 1, 1, 1, 1, 1, 0, 1]\n",
      "[1, 1, 1, 0, 1, 1, 1, 1, 0, 0, 1]\n",
      "[0, 1, 1, 1, 0, 0, 0, 1, 0, 0, 1]\n",
      "[1, 0, 1, 1, 0, 0, 0, 1, 1, 0, 0]\n",
      "[0, 0, 1, 1, 0, 0, 0, 1, 1, 1, 1]\n",
      "[1, 1, 1, 1, 1, 1, 1, 0, 0, 1, 1]\n",
      "[1, 1, 1, 0, 0, 1, 1, 0, 0, 0, 1]\n",
      "[1, 1, 0, 0, 0, 0, 1, 1, 0, 0, 1]\n",
      "[0, 1, 1, 1, 1, 0, 1, 1, 1, 1, 0]\n"
     ]
    }
   ],
   "source": [
    "matrix = [\n",
    "    [0, 0, 1, 1, 1, 0, 1, 0, 1, 1, 1, 0],\n",
    "    [0, 0, 1, 1, 0, 1, 1, 1, 1, 1, 1, 1],\n",
    "    [1, 1, 0, 1, 1, 1, 0, 0, 1, 1, 1, 1],\n",
    "    [1, 1, 1, 0, 0, 1, 1, 1, 1, 1, 0, 1],\n",
    "    [1, 0, 1, 0, 0, 1, 1, 1, 1, 0, 0, 1],\n",
    "    [0, 1, 1, 1, 1, 0, 1, 0, 1, 0, 0, 1],\n",
    "    [1, 1, 0, 1, 1, 1, 0, 0, 1, 1, 0, 0],\n",
    "    [0, 1, 0, 1, 1, 0, 0, 0, 1, 1, 0, 1],\n",
    "    [1, 1, 1, 1, 1, 1, 1, 1, 0, 0, 1, 1],\n",
    "    [1, 1, 1, 1, 0, 0, 1, 1, 0, 0, 0, 1],\n",
    "    [1, 1, 1, 0, 0, 0, 0, 0, 1, 0, 0, 1],\n",
    "    [0, 1, 1, 1, 1, 1, 0, 1, 1, 1, 1, 0]\n",
    "]\n",
    "\n",
    "euler_graph(matrix)"
   ]
  }
 ],
 "metadata": {
  "kernelspec": {
   "display_name": "Python 3",
   "language": "python",
   "name": "python3"
  },
  "language_info": {
   "codemirror_mode": {
    "name": "ipython",
    "version": 3
   },
   "file_extension": ".py",
   "mimetype": "text/x-python",
   "name": "python",
   "nbconvert_exporter": "python",
   "pygments_lexer": "ipython3",
   "version": "3.6.5"
  }
 },
 "nbformat": 4,
 "nbformat_minor": 2
}
