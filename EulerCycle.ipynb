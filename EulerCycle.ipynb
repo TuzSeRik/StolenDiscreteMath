{
 "cells": [
  {
   "cell_type": "code",
   "execution_count": 6,
   "metadata": {},
   "outputs": [
    {
     "name": "stdout",
     "output_type": "stream",
     "text": [
      "[[1, 0, 1, 0, 1, 1], False, 2]\n",
      "[[0, 0, 1, 0, 1, 1], True, 2]\n",
      "[[0, 0, 0, 0, 1, 1], True, 2]\n",
      "[[0, 0, 0, 0, 1, 1], True, 2]\n",
      "[[0, 0, 0, 0, 1, 0], True, 2]\n",
      "[[0, 0, 0, 0, 0, 0], True, 2]\n",
      "[[0, 0, 0, 0, 0, 0], True, 2]\n",
      "[[0, 0, 0, 0, 0, 0], True, 2]\n",
      "[[0, 0, 0, 0, 0, 0], True, 2]\n",
      "[[0, 0, 0, 0, 0, 0], True, 2]\n",
      "[1, 2, 3, 6, 2, 5, 4, 6, 5, 1]\n"
     ]
    }
   ],
   "source": [
    "graph = [\n",
    "    [[0, 1, 0, 0, 1, 0], False, 1],\n",
    "    [[1, 0, 1, 0, 1, 1], False, 2],\n",
    "    [[0, 1, 0, 0, 0, 1], False, 3],\n",
    "    [[0, 0, 0, 0, 1, 1], False, 4],\n",
    "    [[1, 1, 0, 1, 0, 1], False, 5],\n",
    "    [[0, 1, 1, 1, 1, 0], False, 6]\n",
    "]\n",
    "\n",
    "def euler_cycle(curr_el, graph, result, connected_component):\n",
    "    result.append(curr_el)\n",
    "    if (isDone(graph)):\n",
    "        return result\n",
    "    indexes = [i for i in range(len(graph[curr_el][0])) if graph[curr_el][0][i] == 1]\n",
    "    print(graph[1])\n",
    "    for i in indexes:\n",
    "        graph[curr_el][0][i] = 0\n",
    "        graph[i][0][curr_el] = 0\n",
    "        connected_component = check(graph)\n",
    "        if any(map(lambda row: sum(row[0]) != 0, graph)) and len([j for j in range(len(graph[i][0])) if graph[i][0][j] == 1]) == 0:\n",
    "            graph[curr_el][0][i] = 1\n",
    "            graph[i][0][curr_el] = 1\n",
    "            continue\n",
    "        if (len([j for j in range(len(graph[i][0])) if graph[i][0][j] == 1]) >= 1 and connected_component > 1):\n",
    "            graph[curr_el][0][i] = 1\n",
    "            graph[i][0][curr_el] = 1\n",
    "            continue\n",
    "        result = euler_cycle(i, graph, result, connected_component)\n",
    "        break\n",
    "    return result\n",
    "\n",
    "result = euler_cycle(0, graph, [], 1)\n",
    "print(list(map(lambda n: n + 1, result)))"
   ]
  },
  {
   "cell_type": "code",
   "execution_count": 3,
   "metadata": {},
   "outputs": [],
   "source": [
    "def isDone(graph):\n",
    "    for row in graph:\n",
    "        for el in row:\n",
    "            if (el==1):\n",
    "                return False\n",
    "    return True"
   ]
  },
  {
   "cell_type": "code",
   "execution_count": 4,
   "metadata": {},
   "outputs": [],
   "source": [
    "def check(graph):\n",
    "    for u in graph: u[1] = False\n",
    "    connected_component = 0\n",
    "    for i, u in enumerate(graph):\n",
    "        if (sum(u[0]) == 0):\n",
    "            connected_component -= 1\n",
    "\n",
    "    for i, u in enumerate(graph):\n",
    "        if u[1] == False:\n",
    "            u[1] = True\n",
    "            connected_component += 1\n",
    "            dfs(u, graph)\n",
    "    return connected_component"
   ]
  },
  {
   "cell_type": "code",
   "execution_count": 5,
   "metadata": {},
   "outputs": [],
   "source": [
    "def dfs(u, graph):\n",
    "    for v in [i for i in range(len(u[0])) if u[0][i] == 1]:\n",
    "        if graph[v][1] == False:\n",
    "            graph[v][1] = True\n",
    "            dfs(graph[v], graph)"
   ]
  }
 ],
 "metadata": {
  "kernelspec": {
   "display_name": "Python 3",
   "language": "python",
   "name": "python3"
  },
  "language_info": {
   "codemirror_mode": {
    "name": "ipython",
    "version": 3
   },
   "file_extension": ".py",
   "mimetype": "text/x-python",
   "name": "python",
   "nbconvert_exporter": "python",
   "pygments_lexer": "ipython3",
   "version": "3.6.5"
  }
 },
 "nbformat": 4,
 "nbformat_minor": 2
}
