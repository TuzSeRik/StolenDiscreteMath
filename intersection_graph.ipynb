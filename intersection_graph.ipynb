{
 "cells": [
  {
   "cell_type": "code",
   "execution_count": 4,
   "metadata": {},
   "outputs": [
    {
     "name": "stdout",
     "output_type": "stream",
     "text": [
      "Определим p13\n",
      "Ребро x1x3 пересекает \n",
      "\n",
      "Определим p24\n",
      "Ребро x2x4 пересекает x1x3 \n",
      "\n",
      "Определим p26\n",
      "Ребро x2x6 пересекает x1x3 \n",
      "\n",
      "Определим p35\n",
      "Ребро x3x5 пересекает x2x4 \n",
      "\n",
      "Определим p36\n",
      "Ребро x3x6 пересекает x2x4 \n",
      "\n",
      "Определим p37\n",
      "Ребро x3x7 пересекает x2x4 x2x6 \n",
      "\n",
      "Определим p47\n",
      "Ребро x4x7 пересекает x2x6 x3x5 x3x6 \n",
      "\n",
      "Определим p57\n",
      "Ребро x5x7 пересекает x2x6 x3x6 \n",
      "\n",
      "[(1, 3), (2, 6), (4, 6), (1, 5), (3, 6), (2, 4), (2, 5), (0, 2)]\n",
      "[[1, 1, 0, 0, 0, 1, 1, 1], [1, 1, 0, 1, 0, 0, 0, 0], [0, 0, 1, 1, 0, 0, 1, 0], [0, 1, 1, 1, 1, 0, 0, 1], [0, 0, 0, 1, 1, 1, 1, 0], [1, 0, 0, 0, 1, 1, 0, 0], [1, 0, 1, 0, 1, 0, 1, 0], [1, 0, 0, 1, 0, 0, 0, 1]]\n"
     ]
    },
    {
     "data": {
      "text/plain": [
       "defaultdict(list,\n",
       "            {(1, 3): [(0, 2)],\n",
       "             (1, 5): [(0, 2)],\n",
       "             (2, 4): [(1, 3)],\n",
       "             (2, 5): [(1, 3)],\n",
       "             (2, 6): [(1, 3), (1, 5)],\n",
       "             (3, 6): [(1, 5), (2, 4), (2, 5)],\n",
       "             (4, 6): [(1, 5), (2, 5)],\n",
       "             (0, 2): []})"
      ]
     },
     "execution_count": 4,
     "metadata": {},
     "output_type": "execute_result"
    }
   ],
   "source": [
    "from collections import defaultdict\n",
    "\n",
    "\n",
    "def intersection_graph(ham_graph):\n",
    "    arr_map = defaultdict(list)\n",
    "    set_values = set()\n",
    "    for i in range(0, len(ham_graph)):\n",
    "        for j in range(i + 2, len(ham_graph[i])):\n",
    "            if ham_graph[i][j] == 1:\n",
    "                print('Определим p' + str(i + 1) + str(j + 1))\n",
    "                print('Ребро x' + str(i + 1) + 'x' + str(j + 1) + ' пересекает', end=' ')\n",
    "                for i1 in range(0, i):\n",
    "                    for j1 in range(i + 1, j):\n",
    "                        if ham_graph[i1][j1] == 1:\n",
    "                            arr_map[(i, j)].append((i1, j1))\n",
    "                            set_values.add((i, j))\n",
    "                            set_values.add((i1, j1))\n",
    "                            print('x' + str(i1 + 1) + 'x' + str(j1 + 1), end=' ')\n",
    "                print('\\n')\n",
    "    list_values = list(set_values)\n",
    "    dict_to_matrix(arr_map, list_values)\n",
    "    return arr_map\n",
    "\n",
    "\n",
    "def dict_to_matrix(arr_map, list_values):\n",
    "    print(list_values)\n",
    "    result = [[0 for x in range(len(list_values))] for y in range(len(list_values))]\n",
    "    for i in range(0, len(list_values)):\n",
    "        result[i][i] = 1\n",
    "        for k in range(0, len(arr_map[list_values[i]])):\n",
    "            for l in range(0, len(list_values)):\n",
    "                if list_values[l] == arr_map[list_values[i]][k]:\n",
    "                    result[i][l] = 1\n",
    "                    result[l][i] = 1\n",
    "    print(result)\n",
    "    return result\n",
    "\n",
    "\n",
    "\n",
    "ham_graph1 = [\n",
    "    [0, -1, 1, 0, 0, 0, -1],\n",
    "    [-1, 0, -1, 1, 0, 1, 0],\n",
    "    [-1, -1, 0, -1, 1, 1, 1],\n",
    "    [-1, -1, -1, 0, -1, 0, 1],\n",
    "    [-1, -1, -1, -1, 0, -1, 1],\n",
    "    [-1, -1, -1, -1, -1, 0, -1],\n",
    "    [-1, -1, -1, -1, -1, -1, 0]\n",
    "]\n",
    "\n",
    "intersection_graph(ham_graph1)\n"
   ]
  }
 ],
 "metadata": {
  "kernelspec": {
   "display_name": "Python 3",
   "language": "python",
   "name": "python3"
  },
  "language_info": {
   "codemirror_mode": {
    "name": "ipython",
    "version": 3
   },
   "file_extension": ".py",
   "mimetype": "text/x-python",
   "name": "python",
   "nbconvert_exporter": "python",
   "pygments_lexer": "ipython3",
   "version": "3.6.5"
  }
 },
 "nbformat": 4,
 "nbformat_minor": 2
}
